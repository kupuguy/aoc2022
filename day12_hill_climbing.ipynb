{
 "cells": [
  {
   "cell_type": "markdown",
   "metadata": {},
   "source": [
    "<div class=\"alert alert-warning\">Check out the bottom of this file for an alternative solution.</div>\n",
    "# Day 12: Hill Climbing Algorithm\n",
    "\n",
    "[https://adventofcode.com/2022/day/12](https://adventofcode.com/2022/day/12)\n",
    "\n",
    "## Description\n",
    "\n",
    "### Part One\n",
    "\n",
    "You try contacting the Elves using your <span title=\"When you look up the specs for your handheld device, every field just says &quot;plot&quot;.\">handheld device</span>, but the river you're following must be too low to get a decent signal.\n",
    "\n",
    "You ask the device for a heightmap of the surrounding area (your puzzle input). The heightmap shows the local area from above broken into a grid; the elevation of each square of the grid is given by a single lowercase letter, where `a` is the lowest elevation, `b` is the next-lowest, and so on up to the highest elevation, `z`.\n",
    "\n",
    "Also included on the heightmap are marks for your current position (`S`) and the location that should get the best signal (`E`). Your current position (`S`) has elevation `a`, and the location that should get the best signal (`E`) has elevation `z`.\n",
    "\n",
    "You'd like to reach `E`, but to save energy, you should do it in _as few steps as possible_. During each step, you can move exactly one square up, down, left, or right. To avoid needing to get out your climbing gear, the elevation of the destination square can be _at most one higher_ than the elevation of your current square; that is, if your current elevation is `m`, you could step to elevation `n`, but not to elevation `o`. (This also means that the elevation of the destination square can be much lower than the elevation of your current square.)\n",
    "\n",
    "For example:\n",
    "\n",
    "    Sabqponm\n",
    "    abcryxxl\n",
    "    accszExk\n",
    "    acctuvwj\n",
    "    abdefghi\n",
    "    \n",
    "\n",
    "Here, you start in the top-left corner; your goal is near the middle. You could start by moving down or right, but eventually you'll need to head toward the `e` at the bottom. From there, you can spiral around to the goal:\n",
    "\n",
    "    v..v<<<<\n",
    "    >v.vv<<^\n",
    "    .>vv>E^^\n",
    "    ..v>>>^^\n",
    "    ..>>>>>^\n",
    "    \n",
    "\n",
    "In the above diagram, the symbols indicate whether the path exits each square moving up (`^`), down (`v`), left (`<`), or right (`>`). The location that should get the best signal is still `E`, and `.` marks unvisited squares.\n",
    "\n",
    "This path reaches the goal in _`31`_ steps, the fewest possible.\n",
    "\n",
    "_What is the fewest steps required to move from your current position to the location that should get the best signal?_\n"
   ]
  },
  {
   "cell_type": "code",
   "execution_count": 8,
   "metadata": {},
   "outputs": [
    {
     "name": "stdout",
     "output_type": "stream",
     "text": [
      "test 31\n",
      "part 1 437\n"
     ]
    }
   ],
   "source": [
    "from collections import deque\n",
    "from pathlib import Path\n",
    "\n",
    "TEST = \"\"\"Sabqponm\n",
    "abcryxxl\n",
    "accszExk\n",
    "acctuvwj\n",
    "abdefghi\"\"\".splitlines()\n",
    "\n",
    "EXPECTED_1 = 31\n",
    "EXPECTED_2 = 29\n",
    "\n",
    "DATA = Path(\"input/data12.txt\").read_text().splitlines()\n",
    "\n",
    "\n",
    "def parse(data: list[str]) -> tuple[list[list[int]], complex, complex, int, int]:\n",
    "    rows = [\n",
    "        [0 if c == \"S\" else 25 if c == \"E\" else ord(c) - ord(\"a\") for c in row]\n",
    "        for row in data\n",
    "    ]\n",
    "    for y, row in enumerate(data):\n",
    "        if \"S\" in row:\n",
    "            start = row.find(\"S\") + y * 1j\n",
    "        if \"E\" in row:\n",
    "            end = row.find(\"E\") + y * 1j\n",
    "    # print(f\"start {start}, end {end}\")\n",
    "\n",
    "    return rows, start, end, len(row), len(data)\n",
    "\n",
    "\n",
    "def neighbours(pos: complex, width: int, height: int):\n",
    "    if pos.real >= 0:\n",
    "        yield pos - 1\n",
    "    if pos.real < width - 1:\n",
    "        yield pos + 1\n",
    "    if pos.imag >= 0:\n",
    "        yield pos - 1j\n",
    "    if pos.imag < height - 1:\n",
    "        yield pos + 1j\n",
    "\n",
    "\n",
    "def score_1(data: list[str]) -> int:\n",
    "    grid, start, end, width, height = parse(data)\n",
    "    steps = {start: 0}\n",
    "    queue = deque([start])\n",
    "    while end not in steps and queue:\n",
    "        pos = queue.popleft()\n",
    "        h = grid[int(pos.imag)][int(pos.real)]\n",
    "        count = steps[pos] + 1\n",
    "        for nxt in neighbours(pos, width, height):\n",
    "            nh = grid[int(nxt.imag)][int(nxt.real)]\n",
    "            if nxt not in steps and nh - h <= 1:\n",
    "                steps[nxt] = count\n",
    "                queue.append(nxt)\n",
    "\n",
    "    return steps[end]\n",
    "\n",
    "\n",
    "test_score = score_1(TEST)\n",
    "print(\"test\", test_score)\n",
    "assert test_score == EXPECTED_1\n",
    "print(\"part 1\", score_1(DATA))\n"
   ]
  },
  {
   "cell_type": "markdown",
   "metadata": {},
   "source": [
    "<div class=\"alert alert-info\">I used complex numbers for the coordinates because lots of other people seem to do that. Not sure it gained anything. Nice chance to use a `deque`, I don't often get to use them.</div>"
   ]
  },
  {
   "cell_type": "markdown",
   "metadata": {},
   "source": [
    "\n",
    "### Part Two\n",
    "\n",
    "As you walk up the hill, you suspect that the Elves will want to turn this into a hiking trail. The beginning isn't very scenic, though; perhaps you can find a better starting point.\n",
    "\n",
    "To maximize exercise while hiking, the trail should start as low as possible: elevation `a`. The goal is still the square marked `E`. However, the trail should still be direct, taking the fewest steps to reach its goal. So, you'll need to find the shortest path from _any square at elevation `a`_ to the square marked `E`.\n",
    "\n",
    "Again consider the example from above:\n",
    "\n",
    "    Sabqponm\n",
    "    abcryxxl\n",
    "    accszExk\n",
    "    acctuvwj\n",
    "    abdefghi\n",
    "    \n",
    "\n",
    "Now, there are six choices for starting position (five marked `a`, plus the square marked `S` that counts as being at elevation `a`). If you start at the bottom-left square, you can reach the goal most quickly:\n",
    "\n",
    "    ...v<<<<\n",
    "    ...vv<<^\n",
    "    ...v>E^^\n",
    "    .>v>>>^^\n",
    "    >^>>>>>^\n",
    "    \n",
    "\n",
    "This path reaches the goal in only _`29`_ steps, the fewest possible.\n",
    "\n",
    "_What is the fewest steps required to move starting from any square with elevation `a` to the location that should get the best signal?_\n"
   ]
  },
  {
   "cell_type": "code",
   "execution_count": 9,
   "metadata": {},
   "outputs": [
    {
     "name": "stdout",
     "output_type": "stream",
     "text": [
      "test 29\n",
      "part 2 430\n"
     ]
    }
   ],
   "source": [
    "\n",
    "def score_2(data: list[str]) -> int:\n",
    "    grid, start, end, width, height = parse(data)\n",
    "    steps = {end: 0}\n",
    "    queue = deque([end])\n",
    "    while queue:\n",
    "        pos = queue.popleft()\n",
    "        h = grid[int(pos.imag)][int(pos.real)]\n",
    "\n",
    "        count = steps[pos] + 1\n",
    "        for nxt in neighbours(pos, width, height):\n",
    "            nh = grid[int(nxt.imag)][int(nxt.real)]\n",
    "\n",
    "            if nxt not in steps and h - nh <= 1:\n",
    "                if nh == 0:\n",
    "                    return count\n",
    "                steps[nxt] = count\n",
    "                queue.append(nxt)\n",
    "\n",
    "    return steps[start]\n",
    "\n",
    "\n",
    "if EXPECTED_2 is not None:\n",
    "    test_score = score_2(TEST)\n",
    "    print(\"test\", test_score)\n",
    "    assert test_score == EXPECTED_2\n",
    "    print(\"part 2\", score_2(DATA))\n"
   ]
  },
  {
   "cell_type": "markdown",
   "metadata": {},
   "source": [
    "<div class=\"alert alert-info\">Choice here was to run the algorithm backwards (which I did) or just run it forward starting from every possible 0 height location and choose the smallest answer.</div>"
   ]
  },
  {
   "cell_type": "markdown",
   "metadata": {},
   "source": [
    "<div class=\"alert alert-info\">I felt I wanted to take another pass at this code. Here's the new solution: the grid is a dictionary, coordinates are just the index in the original string input (but newlines are omitted to give a break beginning and end of lines).</div>\n"
   ]
  },
  {
   "cell_type": "code",
   "execution_count": 10,
   "metadata": {},
   "outputs": [
    {
     "name": "stdout",
     "output_type": "stream",
     "text": [
      "Part 1 437\n",
      "Part 2 430\n"
     ]
    }
   ],
   "source": [
    "from pathlib import Path\n",
    "\n",
    "data = Path(\"input/data12.txt\").read_text()\n",
    "start, width = data.index(\"S\"), data.index(\"\\n\") + 1\n",
    "\n",
    "grid = {\n",
    "    i: ord(c) - ord(\"a\")\n",
    "    for i, c in enumerate(data.replace(\"S\", \"a\").replace(\"E\", \"z\"))\n",
    "    if c != \"\\n\"\n",
    "}\n",
    "for part in (1, 2):\n",
    "    steps = {start: 0} if part == 1 else {p: 0 for p in grid if grid[p] == 0}\n",
    "    queue = list(steps)\n",
    "    for pos in queue:\n",
    "        neighbours = [\n",
    "            n\n",
    "            for n in ({pos + 1, pos - 1, pos + width, pos - width} & grid.keys())\n",
    "            - steps.keys()\n",
    "            if grid[n] <= grid[pos] + 1\n",
    "        ]\n",
    "        steps |= {n: steps[pos] + 1 for n in neighbours}\n",
    "        queue.extend(neighbours)\n",
    "    print(\"Part\", part, steps[data.index(\"E\")])\n"
   ]
  },
  {
   "cell_type": "markdown",
   "metadata": {},
   "source": [
    "<div class=\"alert alert-info\">Slightly dodgy iterating over an extending list but it works and avoids having to use the deque. Using a dict means I can do set manipulations to check for value neighbours excluding both those we already visited and those outside the grid. I like this better than the first attempt but would blame my covid _ve state for both the original solution and the feeling I had to do it better.</div>"
   ]
  }
 ],
 "metadata": {
  "kernelspec": {
   "display_name": "Python 3.11.0 64-bit ('3.11.0')",
   "language": "python",
   "name": "python3"
  },
  "language_info": {
   "codemirror_mode": {
    "name": "ipython",
    "version": 3
   },
   "file_extension": ".py",
   "mimetype": "text/x-python",
   "name": "python",
   "nbconvert_exporter": "python",
   "pygments_lexer": "ipython3",
   "version": "3.11.0"
  },
  "orig_nbformat": 4,
  "vscode": {
   "interpreter": {
    "hash": "3ddc3726f9882456e8b8cf425cc425f444dad7fd7a11992c764cb4bb411df583"
   }
  }
 },
 "nbformat": 4,
 "nbformat_minor": 2
}
