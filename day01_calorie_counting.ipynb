{
 "cells": [
  {
   "cell_type": "markdown",
   "metadata": {
    "collapsed": false
   },
   "source": [
    "# Day 1: Calorie Counting\n",
    "\n",
    "[https://adventofcode.com/2022/day/1](https://adventofcode.com/2022/day/1)\n",
    "\n",
    "## Description\n",
    "\n",
    "### Part One\n",
    "\n",
    "Santa's reindeer typically eat regular reindeer food, but they need a lot of [magical energy](https://adventofcode.com/2018/day/25) to deliver presents on Christmas. For that, their favorite snack is a special type of _star_ fruit that only grows deep in the jungle. The Elves have brought you on their annual expedition to the grove where the fruit grows.\n",
    "\n",
    "To supply enough magical energy, the expedition needs to retrieve a minimum of _fifty stars_ by December 25th. Although the Elves assure you that the grove has plenty of fruit, you decide to grab any fruit you see along the way, just in case.\n",
    "\n",
    "Collect stars by solving puzzles. Two puzzles will be made available on each day in the Advent calendar; the second puzzle is unlocked when you complete the first. Each puzzle grants _one star_. Good luck!\n",
    "\n",
    "The jungle must be too overgrown and difficult to navigate in vehicles or access from the air; the Elves' expedition traditionally goes on foot. As your boats approach land, the Elves begin taking inventory of their supplies. One important consideration is food - in particular, the number of _Calories_ each Elf is carrying (your puzzle input).\n",
    "\n",
    "The Elves take turns writing down the number of Calories contained by the various meals, snacks, rations, <span title=\"By &quot;etc&quot;, you're pretty sure they just mean &quot;more snacks&quot;.\">etc.</span> that they've brought with them, one item per line. Each Elf separates their own inventory from the previous Elf's inventory (if any) by a blank line.\n",
    "\n",
    "For example, suppose the Elves finish writing their items' Calories and end up with the following list:\n",
    "\n",
    "    1000\n",
    "    2000\n",
    "    3000\n",
    "\n",
    "    4000\n",
    "\n",
    "    5000\n",
    "    6000\n",
    "\n",
    "    7000\n",
    "    8000\n",
    "    9000\n",
    "\n",
    "    10000\n",
    "\n",
    "\n",
    "This list represents the Calories of the food carried by five Elves:\n",
    "\n",
    "*   The first Elf is carrying food with `1000`, `2000`, and `3000` Calories, a total of _`6000`_ Calories.\n",
    "*   The second Elf is carrying one food item with _`4000`_ Calories.\n",
    "*   The third Elf is carrying food with `5000` and `6000` Calories, a total of _`11000`_ Calories.\n",
    "*   The fourth Elf is carrying food with `7000`, `8000`, and `9000` Calories, a total of _`24000`_ Calories.\n",
    "*   The fifth Elf is carrying one food item with _`10000`_ Calories.\n",
    "\n",
    "In case the Elves get hungry and need extra snacks, they need to know which Elf to ask: they'd like to know how many Calories are being carried by the Elf carrying the _most_ Calories. In the example above, this is _`24000`_ (carried by the fourth Elf).\n",
    "\n",
    "Find the Elf carrying the most Calories. _How many total Calories is that Elf carrying?_"
   ]
  },
  {
   "cell_type": "markdown",
   "metadata": {
    "collapsed": false
   },
   "source": [
    "<div class=\"alert alert-info\">Read the question. Always read the question. I didn't and thought it asked for *which* Elf is carrying the most calories. Had to wait for the cooldown.</div>"
   ]
  },
  {
   "cell_type": "code",
   "execution_count": 1,
   "metadata": {
    "collapsed": false
   },
   "outputs": [
    {
     "name": "stdout",
     "output_type": "stream",
     "text": [
      "Part 1 67622\n"
     ]
    }
   ],
   "source": [
    "from pathlib import Path\n",
    "\n",
    "data = Path(\"input/data1.txt\").read_text()\n",
    "data = [int(row) if row.strip() else None for row in Path(\"input/data1.txt\").open()]\n",
    "elves = []\n",
    "elves = [0]\n",
    "for row in data:\n",
    "    if row is None:\n",
    "        elves.append(0)\n",
    "    else:\n",
    "        elves[-1] += row\n",
    "\n",
    "print(\"Part 1\", max(elves))"
   ]
  },
  {
   "cell_type": "markdown",
   "metadata": {
    "collapsed": false
   },
   "source": [
    "<div class=\"alert alert-info\">Once I figured out what the question actually wanted the answer is easy enough. I have no idea why I read the file twice.</div>"
   ]
  },
  {
   "cell_type": "markdown",
   "metadata": {
    "collapsed": false
   },
   "source": [
    "\n",
    "### Part Two\n",
    "\n",
    "By the time you calculate the answer to the Elves' question, they've already realized that the Elf carrying the most Calories of food might eventually _run out of snacks_.\n",
    "\n",
    "To avoid this unacceptable situation, the Elves would instead like to know the total Calories carried by the _top three_ Elves carrying the most Calories. That way, even if one of those Elves runs out of snacks, they still have two backups.\n",
    "\n",
    "In the example above, the top three Elves are the fourth Elf (with `24000` Calories), then the third Elf (with `11000` Calories), then the fifth Elf (with `10000` Calories). The sum of the Calories carried by these three elves is _`45000`_.\n",
    "\n",
    "Find the top three Elves carrying the most Calories. _How many Calories are those Elves carrying in total?_\n"
   ]
  },
  {
   "cell_type": "code",
   "execution_count": 2,
   "metadata": {
    "collapsed": false
   },
   "outputs": [
    {
     "name": "stdout",
     "output_type": "stream",
     "text": [
      "Part 2 201491\n"
     ]
    }
   ],
   "source": [
    "import heapq\n",
    "print(\"Part 2\", sum(heapq.nlargest(3, elves)))"
   ]
  },
  {
   "cell_type": "markdown",
   "metadata": {
    "collapsed": false
   },
   "source": [
    "<div class=\"alert alert-info\">Did I overthink that? Sorting and slicing off the first or last 3 would have been simpler.</div>"
   ]
  },
  {
   "cell_type": "code",
   "execution_count": null,
   "outputs": [],
   "source": [],
   "metadata": {
    "collapsed": false,
    "pycharm": {
     "name": "#%%\n"
    }
   }
  }
 ],
 "metadata": {
  "kernelspec": {
   "display_name": "Python 3.10.1 ('venv': venv)",
   "language": "python",
   "name": "python3"
  },
  "language_info": {
   "codemirror_mode": {
    "name": "ipython",
    "version": 2
   },
   "file_extension": ".py",
   "mimetype": "text/x-python",
   "name": "python",
   "nbconvert_exporter": "python",
   "pygments_lexer": "ipython2",
   "version": "3.10.1"
  },
  "vscode": {
   "interpreter": {
    "hash": "b03101805abc4cb6c72a16cef9713ee3e644b959a0d3925aa23ff30c74f57991"
   }
  }
 },
 "nbformat": 4,
 "nbformat_minor": 0
}