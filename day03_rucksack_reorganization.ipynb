{
 "cells": [
  {
   "cell_type": "markdown",
   "source": [
    "# Day 3: Rucksack Reorganization\n",
    "\n",
    "[https://adventofcode.com/2022/day/3](https://adventofcode.com/2022/day/3)\n",
    "\n",
    "## Description\n",
    "\n",
    "### Part One\n",
    "\n",
    "One Elf has the important job of loading all of the [rucksacks](https://en.wikipedia.org/wiki/Rucksack) with supplies for the <span title=\"Where there's jungle, there's hijinxs.\">jungle</span> journey. Unfortunately, that Elf didn't quite follow the packing instructions, and so a few items now need to be rearranged.\n",
    "\n",
    "Each rucksack has two large _compartments_. All items of a given type are meant to go into exactly one of the two compartments. The Elf that did the packing failed to follow this rule for exactly one item type per rucksack.\n",
    "\n",
    "The Elves have made a list of all of the items currently in each rucksack (your puzzle input), but they need your help finding the errors. Every item type is identified by a single lowercase or uppercase letter (that is, `a` and `A` refer to different types of items).\n",
    "\n",
    "The list of items for each rucksack is given as characters all on a single line. A given rucksack always has the same number of items in each of its two compartments, so the first half of the characters represent items in the first compartment, while the second half of the characters represent items in the second compartment.\n",
    "\n",
    "For example, suppose you have the following list of contents from six rucksacks:\n",
    "\n",
    "    vJrwpWtwJgWrhcsFMMfFFhFp\n",
    "    jqHRNqRjqzjGDLGLrsFMfFZSrLrFZsSL\n",
    "    PmmdzqPrVvPwwTWBwg\n",
    "    wMqvLMZHhHMvwLHjbvcjnnSBnvTQFn\n",
    "    ttgJtRGJQctTZtZT\n",
    "    CrZsJsPPZsGzwwsLwLmpwMDw\n",
    "\n",
    "\n",
    "*   The first rucksack contains the items `vJrwpWtwJgWrhcsFMMfFFhFp`, which means its first compartment contains the items `vJrwpWtwJgWr`, while the second compartment contains the items `hcsFMMfFFhFp`. The only item type that appears in both compartments is lowercase _`p`_.\n",
    "*   The second rucksack's compartments contain `jqHRNqRjqzjGDLGL` and `rsFMfFZSrLrFZsSL`. The only item type that appears in both compartments is uppercase _`L`_.\n",
    "*   The third rucksack's compartments contain `PmmdzqPrV` and `vPwwTWBwg`; the only common item type is uppercase _`P`_.\n",
    "*   The fourth rucksack's compartments only share item type _`v`_.\n",
    "*   The fifth rucksack's compartments only share item type _`t`_.\n",
    "*   The sixth rucksack's compartments only share item type _`s`_.\n",
    "\n",
    "To help prioritize item rearrangement, every item type can be converted to a _priority_:\n",
    "\n",
    "*   Lowercase item types `a` through `z` have priorities 1 through 26.\n",
    "*   Uppercase item types `A` through `Z` have priorities 27 through 52.\n",
    "\n",
    "In the above example, the priority of the item type that appears in both compartments of each rucksack is 16 (`p`), 38 (`L`), 42 (`P`), 22 (`v`), 20 (`t`), and 19 (`s`); the sum of these is _`157`_.\n",
    "\n",
    "Find the item type that appears in both compartments of each rucksack. _What is the sum of the priorities of those item types?_\n"
   ],
   "metadata": {
    "collapsed": false
   }
  },
  {
   "cell_type": "code",
   "execution_count": 1,
   "outputs": [
    {
     "name": "stdout",
     "output_type": "stream",
     "text": [
      "Part 1 8176\n"
     ]
    }
   ],
   "source": [
    "from pathlib import Path\n",
    "\n",
    "TEST_DATA = \"\"\"vJrwpWtwJgWrhcsFMMfFFhFp\n",
    "jqHRNqRjqzjGDLGLrsFMfFZSrLrFZsSL\n",
    "PmmdzqPrVvPwwTWBwg\n",
    "wMqvLMZHhHMvwLHjbvcjnnSBnvTQFn\n",
    "ttgJtRGJQctTZtZT\n",
    "CrZsJsPPZsGzwwsLwLmpwMDw\"\"\"\n",
    "\n",
    "\n",
    "def score(line: str) -> int:\n",
    "    # print(line, len(line))\n",
    "    a, b = line[: len(line) // 2], line[len(line) // 2 :]\n",
    "    common = set(a) & set(b)\n",
    "    assert len(common) == 1\n",
    "    value = list(common)[0]\n",
    "    if \"A\" <= value <= \"Z\":\n",
    "        return ord(value) - ord(\"A\") + 27\n",
    "    return ord(value) - ord(\"a\") + 1\n",
    "\n",
    "\n",
    "def process_1(data: str) -> int:\n",
    "    lines = data.strip().split()\n",
    "    return sum(score(line) for line in lines)\n",
    "\n",
    "\n",
    "assert process_1(TEST_DATA) == 157\n",
    "\n",
    "print(\"Part 1\", process_1(Path(\"input/data3.txt\").read_text()))\n"
   ],
   "metadata": {
    "collapsed": false
   }
  },
  {
   "cell_type": "markdown",
   "source": [
    "### Part Two\n",
    "\n",
    "As you finish identifying the misplaced items, the Elves come to you with another issue.\n",
    "\n",
    "For safety, the Elves are divided into groups of three. Every Elf carries a badge that identifies their group. For efficiency, within each group of three Elves, the badge is the _only item type carried by all three Elves_. That is, if a group's badge is item type `B`, then all three Elves will have item type `B` somewhere in their rucksack, and at most two of the Elves will be carrying any other item type.\n",
    "\n",
    "The problem is that someone forgot to put this year's updated authenticity sticker on the badges. All of the badges need to be pulled out of the rucksacks so the new authenticity stickers can be attached.\n",
    "\n",
    "Additionally, nobody wrote down which item type corresponds to each group's badges. The only way to tell which item type is the right one is by finding the one item type that is _common between all three Elves_ in each group.\n",
    "\n",
    "Every set of three lines in your list corresponds to a single group, but each group can have a different badge item type. So, in the above example, the first group's rucksacks are the first three lines:\n",
    "\n",
    "    vJrwpWtwJgWrhcsFMMfFFhFp\n",
    "    jqHRNqRjqzjGDLGLrsFMfFZSrLrFZsSL\n",
    "    PmmdzqPrVvPwwTWBwg\n",
    "\n",
    "\n",
    "And the second group's rucksacks are the next three lines:\n",
    "\n",
    "    wMqvLMZHhHMvwLHjbvcjnnSBnvTQFn\n",
    "    ttgJtRGJQctTZtZT\n",
    "    CrZsJsPPZsGzwwsLwLmpwMDw\n",
    "\n",
    "\n",
    "In the first group, the only item type that appears in all three rucksacks is lowercase `r`; this must be their badges. In the second group, their badge item type must be `Z`.\n",
    "\n",
    "Priorities for these items must still be found to organize the sticker attachment efforts: here, they are 18 (`r`) for the first group and 52 (`Z`) for the second group. The sum of these is _`70`_.\n",
    "\n",
    "Find the item type that corresponds to the badges of each three-Elf group. _What is the sum of the priorities of those item types?_\n"
   ],
   "metadata": {
    "collapsed": false
   }
  },
  {
   "cell_type": "code",
   "execution_count": 2,
   "outputs": [
    {
     "name": "stdout",
     "output_type": "stream",
     "text": [
      "Part 2 2689\n"
     ]
    }
   ],
   "source": [
    "\n",
    "def score2(group: tuple) -> int:\n",
    "    a, b, c = group\n",
    "    common = set(a) & set(b) & set(c)\n",
    "    assert len(common) == 1\n",
    "\n",
    "    value = list(common)[0]\n",
    "    if \"A\" <= value <= \"Z\":\n",
    "        return ord(value) - ord(\"A\") + 27\n",
    "    return ord(value) - ord(\"a\") + 1\n",
    "\n",
    "\n",
    "def process_2(data: str) -> int:\n",
    "    lines = data.strip().split()\n",
    "    groups = [\n",
    "        (lines[r + 0], lines[r + 1], lines[r + 2]) for r in range(0, len(lines), 3)\n",
    "    ]\n",
    "    return sum(score2(group) for group in groups)\n",
    "\n",
    "\n",
    "assert process_2(TEST_DATA) == 70\n",
    "print(\"Part 2\", process_2(Path(\"input/data3.txt\").read_text()))\n"
   ],
   "metadata": {
    "collapsed": false
   }
  },
  {
   "cell_type": "code",
   "execution_count": null,
   "outputs": [],
   "source": [],
   "metadata": {
    "collapsed": false
   }
  }
 ],
 "metadata": {
  "kernelspec": {
   "display_name": "Python 3",
   "language": "python",
   "name": "python3"
  },
  "language_info": {
   "codemirror_mode": {
    "name": "ipython",
    "version": 2
   },
   "file_extension": ".py",
   "mimetype": "text/x-python",
   "name": "python",
   "nbconvert_exporter": "python",
   "pygments_lexer": "ipython2",
   "version": "2.7.6"
  }
 },
 "nbformat": 4,
 "nbformat_minor": 0
}
