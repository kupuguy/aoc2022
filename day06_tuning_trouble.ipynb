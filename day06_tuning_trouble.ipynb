{
 "cells": [
  {
   "cell_type": "markdown",
   "metadata": {},
   "source": [
    "# Day 6: Tuning Trouble\n",
    "\n",
    "[https://adventofcode.com/2022/day/6](https://adventofcode.com/2022/day/6)\n",
    "\n",
    "## Description\n",
    "\n",
    "### Part One\n",
    "\n",
    "The preparations are finally complete; you and the Elves leave camp on foot and begin to make your way toward the _star_ fruit grove.\n",
    "\n",
    "As you move through the dense undergrowth, one of the Elves gives you a handheld _device_. He says that it has many fancy features, but the most important one to set up right now is the _communication system_.\n",
    "\n",
    "However, because he's heard you have [significant](https://adventofcode.com/2016/day/6) [experience](https://adventofcode.com/2016/day/25) [dealing](https://adventofcode.com/2019/day/7) [with](https://adventofcode.com/2019/day/9) [signal-based](https://adventofcode.com/2019/day/16) [systems](https://adventofcode.com/2021/day/25), he convinced the other Elves that it would be okay to give you their one malfunctioning device - surely you'll have no problem fixing it.\n",
    "\n",
    "As if inspired by comedic timing, the device emits a few <span title=\"The magic smoke, on the other hand, seems to be contained... FOR NOW!\">colorful sparks</span>.\n",
    "\n",
    "To be able to communicate with the Elves, the device needs to _lock on to their signal_. The signal is a series of seemingly-random characters that the device receives one at a time.\n",
    "\n",
    "To fix the communication system, you need to add a subroutine to the device that detects a _start-of-packet marker_ in the datastream. In the protocol being used by the Elves, the start of a packet is indicated by a sequence of _four characters that are all different_.\n",
    "\n",
    "The device will send your subroutine a datastream buffer (your puzzle input); your subroutine needs to identify the first position where the four most recently received characters were all different. Specifically, it needs to report the number of characters from the beginning of the buffer to the end of the first such four-character marker.\n",
    "\n",
    "For example, suppose you receive the following datastream buffer:\n",
    "\n",
    "    mjqjpqmgbljsphdztnvjfqwrcgsmlb\n",
    "\n",
    "After the first three characters (`mjq`) have been received, there haven't been enough characters received yet to find the marker. The first time a marker could occur is after the fourth character is received, making the most recent four characters `mjqj`. Because `j` is repeated, this isn't a marker.\n",
    "\n",
    "The first time a marker appears is after the _seventh_ character arrives. Once it does, the last four characters received are `jpqm`, which are all different. In this case, your subroutine should report the value _`7`_, because the first start-of-packet marker is complete after 7 characters have been processed.\n",
    "\n",
    "Here are a few more examples:\n",
    "\n",
    "*   `bvwbjplbgvbhsrlpgdmjqwftvncz`: first marker after character _`5`_\n",
    "*   `nppdvjthqldpwncqszvftbrmjlhg`: first marker after character _`6`_\n",
    "*   `nznrnfrfntjfmvfwmzdfjlvtqnbhcprsg`: first marker after character _`10`_\n",
    "*   `zcfzfwzzqfrljwzlrfnpqdbhtmscgvjw`: first marker after character _`11`_\n",
    "\n",
    "_How many characters need to be processed before the first start-of-packet marker is detected?_\n"
   ]
  },
  {
   "cell_type": "code",
   "execution_count": 4,
   "metadata": {},
   "outputs": [
    {
     "name": "stdout",
     "output_type": "stream",
     "text": [
      "test 7\n",
      "part 1 1198\n"
     ]
    }
   ],
   "source": [
    "from pathlib import Path\n",
    "from typing import Generator\n",
    "import re\n",
    "\n",
    "TEST = \"mjqjpqmgbljsphdztnvjfqwrcgsmlb\"\n",
    "\n",
    "EXPECTED_1 = 7\n",
    "EXPECTED_2 = 19\n",
    "\n",
    "DATA = (Path(\"input\") / \"data6.txt\").read_text()\n",
    "\n",
    "\n",
    "def score_1(data: str) -> int:\n",
    "    for i in range(len(data)):\n",
    "        if len(set(data[i - 4 : i])) == 4:\n",
    "            return i\n",
    "    return 0\n",
    "\n",
    "\n",
    "test_score = score_1(TEST)\n",
    "print(\"test\", test_score)\n",
    "assert test_score == EXPECTED_1\n",
    "print(\"part 1\", score_1(DATA))"
   ]
  },
  {
   "cell_type": "markdown",
   "metadata": {},
   "source": [
    "<div class=\"alert alert-info\">Strangely easy today. I could have written this as a one-liner.</div>"
   ]
  },
  {
   "cell_type": "markdown",
   "metadata": {},
   "source": [
    "\n",
    "### Part Two\n",
    "\n",
    "Your device's communication system is correctly detecting packets, but still isn't working. It looks like it also needs to look for _messages_.\n",
    "\n",
    "A _start-of-message marker_ is just like a start-of-packet marker, except it consists of _14 distinct characters_ rather than 4.\n",
    "\n",
    "Here are the first positions of start-of-message markers for all of the above examples:\n",
    "\n",
    "*   `mjqjpqmgbljsphdztnvjfqwrcgsmlb`: first marker after character _`19`_\n",
    "*   `bvwbjplbgvbhsrlpgdmjqwftvncz`: first marker after character _`23`_\n",
    "*   `nppdvjthqldpwncqszvftbrmjlhg`: first marker after character _`23`_\n",
    "*   `nznrnfrfntjfmvfwmzdfjlvtqnbhcprsg`: first marker after character _`29`_\n",
    "*   `zcfzfwzzqfrljwzlrfnpqdbhtmscgvjw`: first marker after character _`26`_\n",
    "\n",
    "_How many characters need to be processed before the first start-of-message marker is detected?_\n"
   ]
  },
  {
   "cell_type": "code",
   "execution_count": 5,
   "metadata": {},
   "outputs": [
    {
     "name": "stdout",
     "output_type": "stream",
     "text": [
      "test 19\n",
      "part 2 3120\n"
     ]
    }
   ],
   "source": [
    "\n",
    "def score_2(data: str) -> int:\n",
    "    for i in range(len(data)):\n",
    "        if len(set(data[i - 14 : i])) == 14:\n",
    "            return i\n",
    "    return 0\n",
    "\n",
    "\n",
    "if EXPECTED_2 is not None:\n",
    "    test_score = score_2(TEST)\n",
    "    print(\"test\", test_score)\n",
    "    assert test_score == EXPECTED_2\n",
    "    print(\"part 2\", score_2(DATA))"
   ]
  },
  {
   "cell_type": "markdown",
   "metadata": {},
   "source": [
    "<div class=\"alert alert-info\">Was that it? Apparently so.</dev>"
   ]
  }
 ],
 "metadata": {
  "kernelspec": {
   "display_name": "Python 3.11.0 64-bit ('3.11.0')",
   "language": "python",
   "name": "python3"
  },
  "language_info": {
   "codemirror_mode": {
    "name": "ipython",
    "version": 3
   },
   "file_extension": ".py",
   "mimetype": "text/x-python",
   "name": "python",
   "nbconvert_exporter": "python",
   "pygments_lexer": "ipython3",
   "version": "3.11.0"
  },
  "orig_nbformat": 4,
  "vscode": {
   "interpreter": {
    "hash": "3ddc3726f9882456e8b8cf425cc425f444dad7fd7a11992c764cb4bb411df583"
   }
  }
 },
 "nbformat": 4,
 "nbformat_minor": 2
}
