{
 "cells": [
  {
   "cell_type": "markdown",
   "metadata": {},
   "source": [
    "# Day 18: Boiling Boulders\n",
    "\n",
    "[https://adventofcode.com/2022/day/18](https://adventofcode.com/2022/day/18)\n",
    "\n",
    "## Description\n",
    "\n",
    "### Part One\n",
    "\n",
    "You and the elephants finally reach fresh air. You've emerged near the base of a large volcano that seems to be actively erupting! Fortunately, the lava seems to be flowing away from you and toward the ocean.\n",
    "\n",
    "Bits of lava are still being ejected toward you, so you're sheltering in the cavern exit a little longer. Outside the cave, you can see the lava landing in a pond and hear it loudly hissing as it solidifies.\n",
    "\n",
    "Depending on the specific compounds in the lava and speed at which it cools, it might be forming [obsidian](https://en.wikipedia.org/wiki/Obsidian)! The cooling rate should be based on the surface area of the lava droplets, so you take a quick scan of a droplet as it flies past you (your puzzle input).\n",
    "\n",
    "Because of how quickly the lava is moving, the scan isn't very good; its resolution is quite low and, as a result, it approximates the shape of the lava droplet with _1x1x1 <span title=\"Unfortunately, you forgot your flint and steel in another dimension.\">cubes</span> on a 3D grid_, each given as its `x,y,z` position.\n",
    "\n",
    "To approximate the surface area, count the number of sides of each cube that are not immediately connected to another cube. So, if your scan were only two adjacent cubes like `1,1,1` and `2,1,1`, each cube would have a single side covered and five sides exposed, a total surface area of _`10`_ sides.\n",
    "\n",
    "Here's a larger example:\n",
    "\n",
    "    2,2,2\n",
    "    1,2,2\n",
    "    3,2,2\n",
    "    2,1,2\n",
    "    2,3,2\n",
    "    2,2,1\n",
    "    2,2,3\n",
    "    2,2,4\n",
    "    2,2,6\n",
    "    1,2,5\n",
    "    3,2,5\n",
    "    2,1,5\n",
    "    2,3,5\n",
    "    \n",
    "\n",
    "In the above example, after counting up all the sides that aren't connected to another cube, the total surface area is _`64`_.\n",
    "\n",
    "_What is the surface area of your scanned lava droplet?_\n"
   ]
  },
  {
   "cell_type": "code",
   "execution_count": 2,
   "metadata": {},
   "outputs": [
    {
     "name": "stdout",
     "output_type": "stream",
     "text": [
      "test 64\n",
      "part 1 4192\n"
     ]
    }
   ],
   "source": [
    "from pathlib import Path\n",
    "from typing import Generator\n",
    "\n",
    "TEST = \"\"\"2,2,2\n",
    "1,2,2\n",
    "3,2,2\n",
    "2,1,2\n",
    "2,3,2\n",
    "2,2,1\n",
    "2,2,3\n",
    "2,2,4\n",
    "2,2,6\n",
    "1,2,5\n",
    "3,2,5\n",
    "2,1,5\n",
    "2,3,5\"\"\".splitlines()\n",
    "\n",
    "EXPECTED_1 = 64\n",
    "EXPECTED_2 = None\n",
    "\n",
    "DATA = Path(\"input/data18.txt\").read_text().splitlines()\n",
    "\n",
    "\n",
    "def parse(data: list[str]) -> list[tuple[int, int, int]]:\n",
    "    rows = [\n",
    "        tuple(int(n) for n in line.strip().split(\",\")) for line in data if line.strip()\n",
    "    ]\n",
    "    return rows\n",
    "\n",
    "\n",
    "def score_1(data: list[str]) -> int:\n",
    "    cubes = set(p for p in parse(data))\n",
    "\n",
    "    common = 0\n",
    "    for a, b, c in cubes:\n",
    "        if (a + 1, b, c) in cubes:\n",
    "            common += 1\n",
    "        if (a, b + 1, c) in cubes:\n",
    "            common += 1\n",
    "        if (a, b, c + 1) in cubes:\n",
    "            common += 1\n",
    "\n",
    "    return 6 * len(cubes) - 2 * common\n",
    "\n",
    "\n",
    "assert score_1(\"1,1,1\\n2,1,1\".splitlines()) == 10\n",
    "\n",
    "test_score = score_1(TEST)\n",
    "print(\"test\", test_score)\n",
    "assert test_score == EXPECTED_1\n",
    "print(\"part 1\", score_1(DATA))"
   ]
  },
  {
   "cell_type": "markdown",
   "metadata": {},
   "source": [
    "<div class=\"alert alert-info\">Fortunately this is fairly straightforward, just count the number of neighbours that have cubes and subtract that from the total number of faces.</div>"
   ]
  },
  {
   "cell_type": "markdown",
   "metadata": {},
   "source": [
    "\n",
    "### Part Two\n",
    "\n",
    "Something seems off about your calculation. The cooling rate depends on exterior surface area, but your calculation also included the surface area of air pockets trapped in the lava droplet.\n",
    "\n",
    "Instead, consider only cube sides that could be reached by the water and steam as the lava droplet tumbles into the pond. The steam will expand to reach as much as possible, completely displacing any air on the outside of the lava droplet but never expanding diagonally.\n",
    "\n",
    "In the larger example above, exactly one cube of air is trapped within the lava droplet (at `2,2,5`), so the exterior surface area of the lava droplet is _`58`_.\n",
    "\n",
    "_What is the exterior surface area of your scanned lava droplet?_\n"
   ]
  },
  {
   "cell_type": "code",
   "execution_count": 3,
   "metadata": {},
   "outputs": [
    {
     "name": "stdout",
     "output_type": "stream",
     "text": [
      "test 58\n",
      "part 2 2520\n"
     ]
    }
   ],
   "source": [
    "\n",
    "EXPECTED_2 = 58\n",
    "\n",
    "from collections import deque\n",
    "\n",
    "\n",
    "def score_2(data: list[str]) -> int:\n",
    "    cubes = set(p for p in parse(data))\n",
    "    min_a, max_a, min_b, max_b, min_c, max_c = (\n",
    "        min(a for a, b, c in cubes) - 1,\n",
    "        max(a for a, b, c in cubes) + 1,\n",
    "        min(b for a, b, c in cubes) - 1,\n",
    "        max(b for a, b, c in cubes) + 1,\n",
    "        min(c for a, b, c in cubes) - 1,\n",
    "        max(c for a, b, c in cubes) + 1,\n",
    "    )\n",
    "    # print(min_a, max_a, min_b, max_b, min_c, max_c)\n",
    "    queue = deque([(max_a, max_b, max_c)])\n",
    "    outside = {(max_a, max_b, max_c)}\n",
    "    while queue:\n",
    "        a, b, c = queue.popleft()\n",
    "        for q in [\n",
    "            (a + 1, b, c),\n",
    "            (a - 1, b, c),\n",
    "            (a, b + 1, c),\n",
    "            (a, b - 1, c),\n",
    "            (a, b, c + 1),\n",
    "            (a, b, c - 1),\n",
    "        ]:\n",
    "            d, e, f = q\n",
    "            if (\n",
    "                q not in outside\n",
    "                and q not in cubes\n",
    "                and min_a <= d <= max_a\n",
    "                and min_b <= e <= max_b\n",
    "                and min_c <= f <= max_c\n",
    "            ):\n",
    "                outside.add(q)\n",
    "                queue.append(q)\n",
    "\n",
    "    faces = 0\n",
    "    for a, b, c in cubes:\n",
    "        if (a + 1, b, c) in outside:\n",
    "            faces += 1\n",
    "        if (a, b + 1, c) in outside:\n",
    "            faces += 1\n",
    "        if (a, b, c + 1) in outside:\n",
    "            faces += 1\n",
    "        if (a - 1, b, c) in outside:\n",
    "            faces += 1\n",
    "        if (a, b - 1, c) in outside:\n",
    "            faces += 1\n",
    "        if (a, b, c - 1) in outside:\n",
    "            faces += 1\n",
    "\n",
    "    return faces\n",
    "\n",
    "\n",
    "if EXPECTED_2 is not None:\n",
    "    test_score = score_2(TEST)\n",
    "    print(\"test\", test_score)\n",
    "    assert test_score == EXPECTED_2\n",
    "    print(\"part 2\", score_2(DATA))\n"
   ]
  },
  {
   "cell_type": "markdown",
   "metadata": {},
   "source": [
    "<div class=\"alert alert-info\">I took the outer bounds of the cubes and inflated the box slightly then did a flood fill from the far top corner. Then it's a case of counting how many of the neighbours to cubes were flood-filled.</div>"
   ]
  }
 ],
 "metadata": {
  "kernelspec": {
   "display_name": "Python 3.11.0 64-bit ('3.11.0')",
   "language": "python",
   "name": "python3"
  },
  "language_info": {
   "codemirror_mode": {
    "name": "ipython",
    "version": 3
   },
   "file_extension": ".py",
   "mimetype": "text/x-python",
   "name": "python",
   "nbconvert_exporter": "python",
   "pygments_lexer": "ipython3",
   "version": "3.11.0"
  },
  "orig_nbformat": 4,
  "vscode": {
   "interpreter": {
    "hash": "3ddc3726f9882456e8b8cf425cc425f444dad7fd7a11992c764cb4bb411df583"
   }
  }
 },
 "nbformat": 4,
 "nbformat_minor": 2
}
