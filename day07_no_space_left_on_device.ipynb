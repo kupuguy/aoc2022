{
 "cells": [
  {
   "cell_type": "markdown",
   "metadata": {},
   "source": [
    "# Day 7: No Space Left On Device\n",
    "\n",
    "[https://adventofcode.com/2022/day/7](https://adventofcode.com/2022/day/7)\n",
    "\n",
    "## Description\n",
    "\n",
    "### Part One\n",
    "\n",
    "You can hear birds chirping and raindrops hitting leaves as the expedition proceeds. Occasionally, you can even hear much louder sounds in the distance; how big do the animals get out here, anyway?\n",
    "\n",
    "The device the Elves gave you has problems with more than just its communication system. You try to run a system update:\n",
    "\n",
    "    $ system-update --please --pretty-please-with-sugar-on-top\n",
    "    Error: No space left on device\n",
    "    \n",
    "\n",
    "Perhaps you can delete some files to make space for the update?\n",
    "\n",
    "You browse around the filesystem to assess the situation and save the resulting terminal output (your puzzle input). For example:\n",
    "\n",
    "    $ cd /\n",
    "    $ ls\n",
    "    dir a\n",
    "    14848514 b.txt\n",
    "    8504156 c.dat\n",
    "    dir d\n",
    "    $ cd a\n",
    "    $ ls\n",
    "    dir e\n",
    "    29116 f\n",
    "    2557 g\n",
    "    62596 h.lst\n",
    "    $ cd e\n",
    "    $ ls\n",
    "    584 i\n",
    "    $ cd ..\n",
    "    $ cd ..\n",
    "    $ cd d\n",
    "    $ ls\n",
    "    4060174 j\n",
    "    8033020 d.log\n",
    "    5626152 d.ext\n",
    "    7214296 k\n",
    "    \n",
    "\n",
    "The filesystem consists of a tree of files (plain data) and directories (which can contain other directories or files). The outermost directory is called `/`. You can navigate around the filesystem, moving into or out of directories and listing the contents of the directory you're currently in.\n",
    "\n",
    "Within the terminal output, lines that begin with `$` are _commands you executed_, very much like some modern computers:\n",
    "\n",
    "*   `cd` means _change directory_. This changes which directory is the current directory, but the specific result depends on the argument:\n",
    "    *   `cd x` moves _in_ one level: it looks in the current directory for the directory named `x` and makes it the current directory.\n",
    "    *   `cd ..` moves _out_ one level: it finds the directory that contains the current directory, then makes that directory the current directory.\n",
    "    *   `cd /` switches the current directory to the outermost directory, `/`.\n",
    "*   `ls` means _list_. It prints out all of the files and directories immediately contained by the current directory:\n",
    "    *   `123 abc` means that the current directory contains a file named `abc` with size `123`.\n",
    "    *   `dir xyz` means that the current directory contains a directory named `xyz`.\n",
    "\n",
    "Given the commands and output in the example above, you can determine that the filesystem looks visually like this:\n",
    "\n",
    "    - / (dir)\n",
    "      - a (dir)\n",
    "        - e (dir)\n",
    "          - i (file, size=584)\n",
    "        - f (file, size=29116)\n",
    "        - g (file, size=2557)\n",
    "        - h.lst (file, size=62596)\n",
    "      - b.txt (file, size=14848514)\n",
    "      - c.dat (file, size=8504156)\n",
    "      - d (dir)\n",
    "        - j (file, size=4060174)\n",
    "        - d.log (file, size=8033020)\n",
    "        - d.ext (file, size=5626152)\n",
    "        - k (file, size=7214296)\n",
    "    \n",
    "\n",
    "Here, there are four directories: `/` (the outermost directory), `a` and `d` (which are in `/`), and `e` (which is in `a`). These directories also contain files of various sizes.\n",
    "\n",
    "Since the disk is full, your first step should probably be to find directories that are good candidates for deletion. To do this, you need to determine the _total size_ of each directory. The total size of a directory is the sum of the sizes of the files it contains, directly or indirectly. (Directories themselves do not count as having any intrinsic size.)\n",
    "\n",
    "The total sizes of the directories above can be found as follows:\n",
    "\n",
    "*   The total size of directory `e` is _584_ because it contains a single file `i` of size 584 and no other directories.\n",
    "*   The directory `a` has total size _94853_ because it contains files `f` (size 29116), `g` (size 2557), and `h.lst` (size 62596), plus file `i` indirectly (`a` contains `e` which contains `i`).\n",
    "*   Directory `d` has total size _24933642_.\n",
    "*   As the outermost directory, `/` contains every file. Its total size is _48381165_, the sum of the size of every file.\n",
    "\n",
    "To begin, find all of the directories with a total size of _at most 100000_, then calculate the sum of their total sizes. In the example above, these directories are `a` and `e`; the sum of their total sizes is _`95437`_ (94853 + 584). (As in this example, this process can count files more than once!)\n",
    "\n",
    "Find all of the directories with a total size of at most 100000. _What is the sum of the total sizes of those directories?_\n"
   ]
  },
  {
   "cell_type": "code",
   "execution_count": 17,
   "metadata": {},
   "outputs": [],
   "source": [
    "from pathlib import Path\n",
    "from typing import Generator\n",
    "\n",
    "TEST = \"\"\"$ cd /\n",
    "$ ls\n",
    "dir a\n",
    "14848514 b.txt\n",
    "8504156 c.dat\n",
    "dir d\n",
    "$ cd a\n",
    "$ ls\n",
    "dir e\n",
    "29116 f\n",
    "2557 g\n",
    "62596 h.lst\n",
    "$ cd e\n",
    "$ ls\n",
    "584 i\n",
    "$ cd ..\n",
    "$ cd ..\n",
    "$ cd d\n",
    "$ ls\n",
    "4060174 j\n",
    "8033020 d.log\n",
    "5626152 d.ext\n",
    "7214296 k\"\"\".splitlines()\n",
    "\n",
    "EXPECTED_1 = 95437\n",
    "EXPECTED_2 = 24933642\n",
    "\n",
    "DATADIR = Path(\"input\")\n",
    "DATA = (DATADIR / \"data7.txt\").read_text().splitlines()\n",
    "\n",
    "from collections import defaultdict\n",
    "\n",
    "\n",
    "def parse(data: list[str]) -> dict:\n",
    "    path = Path(\"/\")\n",
    "    files = {}\n",
    "    cwd = files\n",
    "    for row in data:\n",
    "        if row == \"$ cd /\":\n",
    "            path = Path(\"/\")\n",
    "        if row.startswith(\"$ cd\"):\n",
    "            path = (path / row.split()[-1]).resolve(strict=False)\n",
    "            cwd = files\n",
    "            for dir in str(path).split(\"/\"):\n",
    "                if dir:\n",
    "                    cwd = cwd.setdefault(dir, {})\n",
    "        elif row.startswith(\"$ ls\"):\n",
    "            continue\n",
    "        elif row.startswith(\"dir \"):\n",
    "            cwd[row.split()[-1]] = {}\n",
    "        else:\n",
    "            size, name = row.split()\n",
    "            cwd[name] = int(size)\n",
    "    return files\n"
   ]
  },
  {
   "cell_type": "markdown",
   "metadata": {},
   "source": [
    "<div class=\"alert alert-info\">Perhaps not needed but I parsed the 'commands' into a nested dictionary of filenames and sizes or subdirectories. I guess I could have just added things up in the parsing but at this point I didn't know what I might need for part 2.</div>"
   ]
  },
  {
   "cell_type": "code",
   "execution_count": 18,
   "metadata": {},
   "outputs": [
    {
     "name": "stdout",
     "output_type": "stream",
     "text": [
      "{'a': {'e': {'i': 584}, 'f': 29116, 'g': 2557, 'h.lst': 62596},\n",
      " 'b.txt': 14848514,\n",
      " 'c.dat': 8504156,\n",
      " 'd': {'d.ext': 5626152, 'd.log': 8033020, 'j': 4060174, 'k': 7214296}}\n"
     ]
    }
   ],
   "source": [
    "from pprint import pprint\n",
    "pprint(parse(TEST))"
   ]
  },
  {
   "cell_type": "code",
   "execution_count": 19,
   "metadata": {},
   "outputs": [],
   "source": [
    "def sizes(files: dict) -> list[int]:\n",
    "    total = 0\n",
    "    all_sub = []\n",
    "    for name, v in files.items():\n",
    "        if isinstance(v, dict):\n",
    "            sub = sizes(v)\n",
    "            all_sub += sub\n",
    "            if sub:\n",
    "                total += sub[-1]\n",
    "        else:\n",
    "            total += v\n",
    "    return all_sub + [total]\n",
    "\n"
   ]
  },
  {
   "cell_type": "markdown",
   "metadata": {},
   "source": [
    "<div class=\"alert alert-info\">Second step is to walk the dict and add up the sizes of files and directories it contains. Last element of the list is the total size of the directory, earlier results are the sizes of its subdirectories.</div>"
   ]
  },
  {
   "cell_type": "code",
   "execution_count": 20,
   "metadata": {},
   "outputs": [
    {
     "name": "stdout",
     "output_type": "stream",
     "text": [
      "[584, 94853, 24933642, 48381165]\n"
     ]
    }
   ],
   "source": [
    "pprint(sizes(parse(TEST)))"
   ]
  },
  {
   "cell_type": "code",
   "execution_count": 21,
   "metadata": {},
   "outputs": [
    {
     "name": "stdout",
     "output_type": "stream",
     "text": [
      "test 95437\n",
      "part 1 1749646\n"
     ]
    }
   ],
   "source": [
    "\n",
    "def score_1(data: list[str]) -> int:\n",
    "    files = parse(data)\n",
    "    return sum(f for f in sizes(files) if f < 100000)\n",
    "\n",
    "\n",
    "test_score = score_1(TEST)\n",
    "print(\"test\", test_score)\n",
    "assert test_score == EXPECTED_1\n",
    "print(\"part 1\", score_1(DATA))\n"
   ]
  },
  {
   "cell_type": "markdown",
   "metadata": {},
   "source": [
    "<div class=\"alert alert-info\">Part 1 is just add up the sizes of all the smaller directories</div>"
   ]
  },
  {
   "cell_type": "markdown",
   "metadata": {},
   "source": [
    "\n",
    "### Part Two\n",
    "\n",
    "Now, you're ready to choose a directory to delete.\n",
    "\n",
    "The total disk space available to the filesystem is _`70000000`_. To run the update, you need unused space of at least _`30000000`_. You need to find a directory you can delete that will _free up enough space_ to run the update.\n",
    "\n",
    "In the example above, the total size of the outermost directory (and thus the total amount of used space) is `48381165`; this means that the size of the _unused_ space must currently be `21618835`, which isn't quite the `30000000` required by the update. Therefore, the update still requires a directory with total size of at least `8381165` to be deleted before it can run.\n",
    "\n",
    "To achieve this, you have the following options:\n",
    "\n",
    "*   Delete directory `e`, which would increase unused space by `584`.\n",
    "*   Delete directory `a`, which would increase unused space by `94853`.\n",
    "*   Delete directory `d`, which would increase unused space by `24933642`.\n",
    "*   Delete directory `/`, which would increase unused space by `48381165`.\n",
    "\n",
    "Directories `e` and `a` are both too small; deleting them would not free up enough space. However, directories `d` and `/` are both big enough! Between these, choose the _smallest_: `d`, increasing unused space by _`24933642`_.\n",
    "\n",
    "Find the smallest directory that, if deleted, would free up enough space on the filesystem to run the update. _What is the total size of that directory?_\n"
   ]
  },
  {
   "cell_type": "code",
   "execution_count": 22,
   "metadata": {},
   "outputs": [
    {
     "name": "stdout",
     "output_type": "stream",
     "text": [
      "test 24933642\n",
      "part 2 1498966\n"
     ]
    }
   ],
   "source": [
    "def score_2(data: list[str]) -> int:\n",
    "    disk_size = 70000000\n",
    "    needed = 30000000\n",
    "    files = parse(data)\n",
    "\n",
    "    sz = sizes(files)\n",
    "    used = sz[-1]\n",
    "    unused = disk_size - used\n",
    "    needed -= unused\n",
    "    return min(size for size in sz if size >= needed)\n",
    "\n",
    "\n",
    "if EXPECTED_2 is not None:\n",
    "    test_score = score_2(TEST)\n",
    "    print(\"test\", test_score)\n",
    "    assert test_score == EXPECTED_2\n",
    "    print(\"part 2\", score_2(DATA))\n"
   ]
  },
  {
   "cell_type": "markdown",
   "metadata": {},
   "source": [
    "<div class=\"alert alert-info\">It turns out all I needed for part 2 was the same list of sizes as in part 1 and return the smallest directory size greater than the amount needed.</div>"
   ]
  }
 ],
 "metadata": {
  "kernelspec": {
   "display_name": "Python 3.11.0 64-bit ('3.11.0')",
   "language": "python",
   "name": "python3"
  },
  "language_info": {
   "codemirror_mode": {
    "name": "ipython",
    "version": 3
   },
   "file_extension": ".py",
   "mimetype": "text/x-python",
   "name": "python",
   "nbconvert_exporter": "python",
   "pygments_lexer": "ipython3",
   "version": "3.11.0"
  },
  "orig_nbformat": 4,
  "vscode": {
   "interpreter": {
    "hash": "3ddc3726f9882456e8b8cf425cc425f444dad7fd7a11992c764cb4bb411df583"
   }
  }
 },
 "nbformat": 4,
 "nbformat_minor": 2
}
