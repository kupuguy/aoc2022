{
 "cells": [
  {
   "cell_type": "markdown",
   "source": [
    "# Day 2: Rock Paper Scissors\n",
    "\n",
    "[https://adventofcode.com/2022/day/2](https://adventofcode.com/2022/day/2)\n",
    "\n",
    "## Description\n",
    "\n",
    "### Part One\n",
    "\n",
    "The Elves begin to set up camp on the beach. To decide whose tent gets to be closest to the snack storage, a giant [Rock Paper Scissors](https://en.wikipedia.org/wiki/Rock_paper_scissors) tournament is already in progress.\n",
    "\n",
    "Rock Paper Scissors is a game between two players. Each game contains many rounds; in each round, the players each simultaneously choose one of Rock, Paper, or Scissors using a hand shape. Then, a winner for that round is selected: Rock defeats Scissors, Scissors defeats Paper, and Paper defeats Rock. If both players choose the same shape, the round instead ends in a draw.\n",
    "\n",
    "Appreciative of your help yesterday, one Elf gives you an _encrypted strategy guide_ (your puzzle input) that they say will be sure to help you win. \"The first column is what your opponent is going to play: `A` for Rock, `B` for Paper, and `C` for Scissors. The second column--\" Suddenly, the Elf is called away to help with someone's tent.\n",
    "\n",
    "The second column, <span title=\"Why do you keep guessing?!\">you reason</span>, must be what you should play in response: `X` for Rock, `Y` for Paper, and `Z` for Scissors. Winning every time would be suspicious, so the responses must have been carefully chosen.\n",
    "\n",
    "The winner of the whole tournament is the player with the highest score. Your _total score_ is the sum of your scores for each round. The score for a single round is the score for the _shape you selected_ (1 for Rock, 2 for Paper, and 3 for Scissors) plus the score for the _outcome of the round_ (0 if you lost, 3 if the round was a draw, and 6 if you won).\n",
    "\n",
    "Since you can't be sure if the Elf is trying to help you or trick you, you should calculate the score you would get if you were to follow the strategy guide.\n",
    "\n",
    "For example, suppose you were given the following strategy guide:\n",
    "\n",
    "    A Y\n",
    "    B X\n",
    "    C Z\n",
    "\n",
    "\n",
    "This strategy guide predicts and recommends the following:\n",
    "\n",
    "*   In the first round, your opponent will choose Rock (`A`), and you should choose Paper (`Y`). This ends in a win for you with a score of _8_ (2 because you chose Paper + 6 because you won).\n",
    "*   In the second round, your opponent will choose Paper (`B`), and you should choose Rock (`X`). This ends in a loss for you with a score of _1_ (1 + 0).\n",
    "*   The third round is a draw with both players choosing Scissors, giving you a score of 3 + 3 = _6_.\n",
    "\n",
    "In this example, if you were to follow the strategy guide, you would get a total score of _`15`_ (8 + 1 + 6).\n",
    "\n",
    "_What would your total score be if everything goes exactly according to your strategy guide?_"
   ],
   "metadata": {
    "collapsed": false
   }
  },
  {
   "cell_type": "code",
   "execution_count": 1,
   "outputs": [
    {
     "name": "stdout",
     "output_type": "stream",
     "text": [
      "test 15\n",
      "part 1 12276\n"
     ]
    }
   ],
   "source": [
    "SCORES = {\n",
    "    \"AX\": 1 + 3,\n",
    "    \"BY\": 2 + 3,\n",
    "    \"CZ\": 3 + 3,\n",
    "    \"AY\": 2 + 6,\n",
    "    \"BZ\": 3 + 6,\n",
    "    \"CX\": 1 + 6,\n",
    "    \"AZ\": 3 + 0,\n",
    "    \"BX\": 1 + 0,\n",
    "    \"CY\": 2 + 0,\n",
    "}\n",
    "\n",
    "test = \"\"\"A Y\n",
    "B X\n",
    "C Z\"\"\"\n",
    "\n",
    "\n",
    "def score(input: list[str], scores: dict[str, int]) -> int:\n",
    "    score = 0\n",
    "    for round in input:\n",
    "        score += scores[round.strip().replace(\" \", \"\")]\n",
    "    return score\n",
    "\n",
    "\n",
    "print(\"test\", score(test.split(\"\\n\"), SCORES))\n",
    "\n",
    "from pathlib import Path\n",
    "\n",
    "print(\"part 1\", score(Path(\"input/data2.txt\").read_text().strip().split(\"\\n\"), SCORES))"
   ],
   "metadata": {
    "collapsed": false
   }
  },
  {
   "cell_type": "markdown",
   "source": [
    "<div class=\"alert alert-info\">I was determined not to overthink this one. There are only nine possible combinations for an input line so I just wrote them out manually.</div>"
   ],
   "metadata": {
    "collapsed": false
   }
  },
  {
   "cell_type": "markdown",
   "source": [
    "\n",
    "### Part Two\n",
    "\n",
    "The Elf finishes helping with the tent and sneaks back over to you. \"Anyway, the second column says how the round needs to end: `X` means you need to lose, `Y` means you need to end the round in a draw, and `Z` means you need to win. Good luck!\"\n",
    "\n",
    "The total score is still calculated in the same way, but now you need to figure out what shape to choose so the round ends as indicated. The example above now goes like this:\n",
    "\n",
    "*   In the first round, your opponent will choose Rock (`A`), and you need the round to end in a draw (`Y`), so you also choose Rock. This gives you a score of 1 + 3 = _4_.\n",
    "*   In the second round, your opponent will choose Paper (`B`), and you choose Rock so you lose (`X`) with a score of 1 + 0 = _1_.\n",
    "*   In the third round, you will defeat your opponent's Scissors with Rock for a score of 1 + 6 = _7_.\n",
    "\n",
    "Now that you're correctly decrypting the ultra top secret strategy guide, you would get a total score of _`12`_.\n",
    "\n",
    "Following the Elf's instructions for the second column, _what would your total score be if everything goes exactly according to your strategy guide?_\n"
   ],
   "metadata": {
    "collapsed": false
   }
  },
  {
   "cell_type": "code",
   "execution_count": 2,
   "outputs": [
    {
     "name": "stdout",
     "output_type": "stream",
     "text": [
      "test 12\n",
      "part 2 9975\n"
     ]
    }
   ],
   "source": [
    "SCORES2 = {\n",
    "    \"AX\": 3 + 0,\n",
    "    \"BY\": 2 + 3,\n",
    "    \"CZ\": 1 + 6,\n",
    "    \"AY\": 1 + 3,\n",
    "    \"BZ\": 3 + 6,\n",
    "    \"CX\": 2 + 0,\n",
    "    \"AZ\": 2 + 6,\n",
    "    \"BX\": 1 + 0,\n",
    "    \"CY\": 3 + 3,\n",
    "}\n",
    "print(\"test\", score(test.split(\"\\n\"), SCORES2))\n",
    "\n",
    "print(\"part 2\", score(Path(\"input/data2.txt\").read_text().strip().split(\"\\n\"), SCORES2))\n"
   ],
   "metadata": {
    "collapsed": false
   }
  },
  {
   "cell_type": "markdown",
   "source": [
    "<div class=\"alert alert-info\">Part 2 was just a case of writing a new score table and copy/pasting the same call to the `score` function.</div>"
   ],
   "metadata": {
    "collapsed": false
   }
  }
 ],
 "metadata": {
  "kernelspec": {
   "display_name": "Python 3",
   "language": "python",
   "name": "python3"
  },
  "language_info": {
   "codemirror_mode": {
    "name": "ipython",
    "version": 2
   },
   "file_extension": ".py",
   "mimetype": "text/x-python",
   "name": "python",
   "nbconvert_exporter": "python",
   "pygments_lexer": "ipython2",
   "version": "2.7.6"
  }
 },
 "nbformat": 4,
 "nbformat_minor": 0
}
