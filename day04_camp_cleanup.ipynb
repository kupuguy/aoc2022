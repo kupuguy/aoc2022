{
 "cells": [
  {
   "cell_type": "markdown",
   "metadata": {},
   "source": [
    "# Day 4: Camp Cleanup\n",
    "\n",
    "[https://adventofcode.com/2022/day/4](https://adventofcode.com/2022/day/4)\n",
    "\n",
    "## Description\n",
    "\n",
    "### Part One\n",
    "\n",
    "Space needs to be cleared before the last supplies can be unloaded from the ships, and so several Elves have been assigned the job of cleaning up sections of the camp. Every section has a unique _ID number_, and each Elf is assigned a range of section IDs.\n",
    "\n",
    "However, as some of the Elves compare their section assignments with each other, they've noticed that many of the assignments _overlap_. To try to quickly find overlaps and reduce duplicated effort, the Elves pair up and make a _big list of the section assignments for each pair_ (your puzzle input).\n",
    "\n",
    "For example, consider the following list of section assignment pairs:\n",
    "\n",
    "    2-4,6-8\n",
    "    2-3,4-5\n",
    "    5-7,7-9\n",
    "    2-8,3-7\n",
    "    6-6,4-6\n",
    "    2-6,4-8\n",
    "    \n",
    "\n",
    "For the first few pairs, this list means:\n",
    "\n",
    "*   Within the first pair of Elves, the first Elf was assigned sections `2-4` (sections `2`, `3`, and `4`), while the second Elf was assigned sections `6-8` (sections `6`, `7`, `8`).\n",
    "*   The Elves in the second pair were each assigned two sections.\n",
    "*   The Elves in the third pair were each assigned three sections: one got sections `5`, `6`, and `7`, while the other also got `7`, plus `8` and `9`.\n",
    "\n",
    "This example list uses single-digit section IDs to make it easier to draw; your actual list might contain larger numbers. Visually, these pairs of section assignments look like this:\n",
    "\n",
    "    .234.....  2-4\n",
    "    .....678.  6-8\n",
    "    \n",
    "    .23......  2-3\n",
    "    ...45....  4-5\n",
    "    \n",
    "    ....567..  5-7\n",
    "    ......789  7-9\n",
    "    \n",
    "    .2345678.  2-8\n",
    "    ..34567..  3-7\n",
    "    \n",
    "    .....6...  6-6\n",
    "    ...456...  4-6\n",
    "    \n",
    "    .23456...  2-6\n",
    "    ...45678.  4-8\n",
    "    \n",
    "\n",
    "Some of the pairs have noticed that one of their assignments _fully contains_ the other. For example, `2-8` fully contains `3-7`, and `6-6` is fully contained by `4-6`. In pairs where one assignment fully contains the other, one Elf in the pair would be exclusively cleaning sections their partner will already be cleaning, so these seem like the most in need of reconsideration. In this example, there are _`2`_ such pairs.\n",
    "\n",
    "_In how many assignment pairs does one range fully contain the other?_\n"
   ]
  },
  {
   "cell_type": "code",
   "execution_count": 12,
   "metadata": {},
   "outputs": [
    {
     "name": "stdout",
     "output_type": "stream",
     "text": [
      "test 2\n",
      "part 1 511\n"
     ]
    }
   ],
   "source": [
    "from pathlib import Path\n",
    "\n",
    "TEST = \"\"\"2-4,6-8\n",
    "2-3,4-5\n",
    "5-7,7-9\n",
    "2-8,3-7\n",
    "6-6,4-6\n",
    "2-6,4-8\"\"\".split(\n",
    "    \"\\n\"\n",
    ")\n",
    "\n",
    "DATA = Path(\"input/data4.txt\").read_text().split(\"\\n\")\n",
    "\n",
    "\n",
    "def parse(data: list[str]) -> list[tuple[set, set]]:\n",
    "    rows = []\n",
    "    for line in data:\n",
    "        if not line:\n",
    "            continue\n",
    "        a, b = line.split(\",\")\n",
    "        a1, a2 = a.split(\"-\")\n",
    "        b1, b2 = b.split(\"-\")\n",
    "        rows.append(\n",
    "            (set(range(int(a1), int(a2) + 1)), set(range(int(b1), int(b2) + 1)))\n",
    "        )\n",
    "    return rows\n",
    "\n",
    "\n",
    "def score_1(data: list[str]) -> int:\n",
    "    count = 0\n",
    "    for a, b in parse(data):\n",
    "        if (a & b) == a or (a & b) == b:\n",
    "            count += 1\n",
    "    return count\n",
    "\n",
    "\n",
    "print(\"test\", score_1(TEST))\n",
    "print(\"part 1\", score_1(DATA))"
   ]
  },
  {
   "cell_type": "markdown",
   "metadata": {},
   "source": [
    "<div class=\"alert alert-info\">Initially I had <code>a &lt; b or b &lt; a</code> but that doesn't work because of course it excludes cases where both elves have identical tasks. I fixed that but I'm really regretting missing the chance to do it like this just for the cheek of the comparison:</div>"
   ]
  },
  {
   "cell_type": "code",
   "execution_count": 13,
   "metadata": {},
   "outputs": [
    {
     "name": "stdout",
     "output_type": "stream",
     "text": [
      "part 1 511\n"
     ]
    }
   ],
   "source": [
    "def score_1x(data: list[str]) -> int:\n",
    "    count = 0\n",
    "    for a, b in parse(data):\n",
    "        if a <= b or b <= a:\n",
    "            count += 1\n",
    "    return count\n",
    "\n",
    "print(\"part 1\", score_1x(DATA))"
   ]
  },
  {
   "cell_type": "markdown",
   "metadata": {},
   "source": [
    "\n",
    "### Part Two\n",
    "\n",
    "It seems like there is still quite a bit of duplicate work planned. Instead, the Elves would <span title=\"If you like this, you'll *love* axis-aligned bounding box intersection testing.\">like</span> to know the number of pairs that _overlap at all_.\n",
    "\n",
    "In the above example, the first two pairs (`2-4,6-8` and `2-3,4-5`) don't overlap, while the remaining four pairs (`5-7,7-9`, `2-8,3-7`, `6-6,4-6`, and `2-6,4-8`) do overlap:\n",
    "\n",
    "*   `5-7,7-9` overlaps in a single section, `7`.\n",
    "*   `2-8,3-7` overlaps all of the sections `3` through `7`.\n",
    "*   `6-6,4-6` overlaps in a single section, `6`.\n",
    "*   `2-6,4-8` overlaps in sections `4`, `5`, and `6`.\n",
    "\n",
    "So, in this example, the number of overlapping assignment pairs is _`4`_.\n",
    "\n",
    "_In how many assignment pairs do the ranges overlap?_\n"
   ]
  },
  {
   "cell_type": "code",
   "execution_count": 14,
   "metadata": {},
   "outputs": [
    {
     "name": "stdout",
     "output_type": "stream",
     "text": [
      "test 4\n",
      "part 2 821\n"
     ]
    }
   ],
   "source": [
    "\n",
    "def score_2(data: list[str]) -> int:\n",
    "    count = 0\n",
    "    for a, b in parse(data):\n",
    "        if (a & b) != set():\n",
    "            count += 1\n",
    "    return count\n",
    "\n",
    "\n",
    "print(\"test\", score_2(TEST))\n",
    "print(\"part 2\", score_2(DATA))\n"
   ]
  },
  {
   "cell_type": "markdown",
   "metadata": {
    "pycharm": {
     "name": "#%% md\n"
    }
   },
   "source": [
    "<div class=\"alert alert-info\">Yes, the <code>!= set()</code> is redundant but I like to be clear.</div>"
   ]
  }
 ],
 "metadata": {
  "kernelspec": {
   "display_name": "Python 3.10.1 ('venv': venv)",
   "language": "python",
   "name": "python3"
  },
  "language_info": {
   "codemirror_mode": {
    "name": "ipython",
    "version": 3
   },
   "file_extension": ".py",
   "mimetype": "text/x-python",
   "name": "python",
   "nbconvert_exporter": "python",
   "pygments_lexer": "ipython3",
   "version": "3.10.1"
  },
  "orig_nbformat": 4,
  "vscode": {
   "interpreter": {
    "hash": "b03101805abc4cb6c72a16cef9713ee3e644b959a0d3925aa23ff30c74f57991"
   }
  }
 },
 "nbformat": 4,
 "nbformat_minor": 2
}