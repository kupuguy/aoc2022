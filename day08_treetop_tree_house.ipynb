{
 "cells": [
  {
   "cell_type": "markdown",
   "metadata": {},
   "source": [
    "# Day 8: Treetop Tree House\n",
    "\n",
    "[https://adventofcode.com/2022/day/8](https://adventofcode.com/2022/day/8)\n",
    "\n",
    "## Description\n",
    "\n",
    "### Part One\n",
    "\n",
    "The expedition comes across a peculiar patch of tall trees all planted carefully in a grid. The Elves explain that a previous expedition planted these trees as a reforestation effort. Now, they're curious if this would be a good location for a [tree house](https://en.wikipedia.org/wiki/Tree_house).\n",
    "\n",
    "First, determine whether there is enough tree cover here to keep a tree house _hidden_. To do this, you need to count the number of trees that are _visible from outside the grid_ when looking directly along a row or column.\n",
    "\n",
    "The Elves have already launched a [quadcopter](https://en.wikipedia.org/wiki/Quadcopter) to generate a map with the height of each tree (<span title=\"The Elves have already launched a quadcopter (your puzzle input).\">your puzzle input</span>). For example:\n",
    "\n",
    "    30373\n",
    "    25512\n",
    "    65332\n",
    "    33549\n",
    "    35390\n",
    "    \n",
    "\n",
    "Each tree is represented as a single digit whose value is its height, where `0` is the shortest and `9` is the tallest.\n",
    "\n",
    "A tree is _visible_ if all of the other trees between it and an edge of the grid are _shorter_ than it. Only consider trees in the same row or column; that is, only look up, down, left, or right from any given tree.\n",
    "\n",
    "All of the trees around the edge of the grid are _visible_ - since they are already on the edge, there are no trees to block the view. In this example, that only leaves the _interior nine trees_ to consider:\n",
    "\n",
    "*   The top-left `5` is _visible_ from the left and top. (It isn't visible from the right or bottom since other trees of height `5` are in the way.)\n",
    "*   The top-middle `5` is _visible_ from the top and right.\n",
    "*   The top-right `1` is not visible from any direction; for it to be visible, there would need to only be trees of height _0_ between it and an edge.\n",
    "*   The left-middle `5` is _visible_, but only from the right.\n",
    "*   The center `3` is not visible from any direction; for it to be visible, there would need to be only trees of at most height `2` between it and an edge.\n",
    "*   The right-middle `3` is _visible_ from the right.\n",
    "*   In the bottom row, the middle `5` is _visible_, but the `3` and `4` are not.\n",
    "\n",
    "With 16 trees visible on the edge and another 5 visible in the interior, a total of _`21`_ trees are visible in this arrangement.\n",
    "\n",
    "Consider your map; _how many trees are visible from outside the grid?_\n"
   ]
  },
  {
   "cell_type": "markdown",
   "metadata": {},
   "source": [
    "<div class=\"alert alert-info\">I found this one quite tricky, but the company christmas lunch the day before might be at least partly to blame. Interestingly I thought of two approaches to part 1 and picked the wrong one. If I'd gone with a more brute-force solution (for each tree, is it visible?) it would have looked very similar to my part 2 solution but instead I went for \"go round the edge and mark every tree you can see as visible\".</div>"
   ]
  },
  {
   "cell_type": "code",
   "execution_count": 5,
   "metadata": {},
   "outputs": [
    {
     "name": "stdout",
     "output_type": "stream",
     "text": [
      "test 21\n",
      "part 1 1662\n"
     ]
    }
   ],
   "source": [
    "from pathlib import Path\n",
    "from typing import Generator\n",
    "\n",
    "TEST = \"\"\"30373\n",
    "25512\n",
    "65332\n",
    "33549\n",
    "35390\"\"\".splitlines()\n",
    "\n",
    "EXPECTED_1 = 21\n",
    "EXPECTED_2 = 8\n",
    "\n",
    "DATADIR = Path(\"input\")\n",
    "DATA = (DATADIR / \"data8.txt\").read_text().splitlines()\n",
    "\n",
    "\n",
    "def can_see(row: str) -> Generator[int, None, None]:\n",
    "    nearest = 9999999\n",
    "    count = 0\n",
    "    for height in \"9876543210\":\n",
    "        pos = row.find(height)\n",
    "        if pos >= 0 and pos < nearest:\n",
    "            yield pos\n",
    "            nearest = pos\n",
    "\n",
    "\n",
    "def score_1(data: list[str]) -> int:\n",
    "    rows = len(data)\n",
    "    cols = len(data[0])\n",
    "    visible = [[0] * cols for i in range(rows)]\n",
    "\n",
    "    for index, row in enumerate(data):\n",
    "        for seen in can_see(row):\n",
    "            visible[index][seen] = 1\n",
    "        for seen in can_see(row[::-1]):\n",
    "            visible[index][len(row) - seen - 1] = 1\n",
    "\n",
    "    grid = \"\".join(data)\n",
    "    columns = [grid[col::cols] for col in range(cols)]\n",
    "    for index, row in enumerate(columns):\n",
    "        for seen in can_see(row):\n",
    "            visible[seen][index] = 1\n",
    "        for seen in can_see(row[::-1]):\n",
    "            visible[len(row) - seen - 1][index] = 1\n",
    "\n",
    "    return sum(sum(v) for v in visible)\n",
    "\n",
    "\n",
    "test_score = score_1(TEST)\n",
    "print(\"test\", test_score)\n",
    "assert test_score == EXPECTED_1\n",
    "print(\"part 1\", score_1(DATA))\n"
   ]
  },
  {
   "cell_type": "markdown",
   "metadata": {},
   "source": [
    "<div class=\"alert alert-info\">I considered parsing to an array of ints but sticking with strings makes the slicing and searching easier in Python. Submitted a totally wrong answer first time (too high) and I couldn't see the problem in the code. It turned out I'd forgotten to edit the name of the input file and was using day 4's input by mistake!</div>"
   ]
  },
  {
   "cell_type": "markdown",
   "metadata": {},
   "source": [
    "\n",
    "### Part Two\n",
    "\n",
    "Content with the amount of tree cover available, the Elves just need to know the best spot to build their tree house: they would like to be able to see a lot of _trees_.\n",
    "\n",
    "To measure the viewing distance from a given tree, look up, down, left, and right from that tree; stop if you reach an edge or at the first tree that is the same height or taller than the tree under consideration. (If a tree is right on the edge, at least one of its viewing distances will be zero.)\n",
    "\n",
    "The Elves don't care about distant trees taller than those found by the rules above; the proposed tree house has large [eaves](https://en.wikipedia.org/wiki/Eaves) to keep it dry, so they wouldn't be able to see higher than the tree house anyway.\n",
    "\n",
    "In the example above, consider the middle `5` in the second row:\n",
    "\n",
    "    30373\n",
    "    25512\n",
    "    65332\n",
    "    33549\n",
    "    35390\n",
    "    \n",
    "\n",
    "*   Looking up, its view is not blocked; it can see _`1`_ tree (of height `3`).\n",
    "*   Looking left, its view is blocked immediately; it can see only _`1`_ tree (of height `5`, right next to it).\n",
    "*   Looking right, its view is not blocked; it can see _`2`_ trees.\n",
    "*   Looking down, its view is blocked eventually; it can see _`2`_ trees (one of height `3`, then the tree of height `5` that blocks its view).\n",
    "\n",
    "A tree's _scenic score_ is found by _multiplying together_ its viewing distance in each of the four directions. For this tree, this is _`4`_ (found by multiplying `1 * 1 * 2 * 2`).\n",
    "\n",
    "However, you can do even better: consider the tree of height `5` in the middle of the fourth row:\n",
    "\n",
    "    30373\n",
    "    25512\n",
    "    65332\n",
    "    33549\n",
    "    35390\n",
    "    \n",
    "\n",
    "*   Looking up, its view is blocked at _`2`_ trees (by another tree with a height of `5`).\n",
    "*   Looking left, its view is not blocked; it can see _`2`_ trees.\n",
    "*   Looking down, its view is also not blocked; it can see _`1`_ tree.\n",
    "*   Looking right, its view is blocked at _`2`_ trees (by a massive tree of height `9`).\n",
    "\n",
    "This tree's scenic score is _`8`_ (`2 * 2 * 1 * 2`); this is the ideal spot for the tree house.\n",
    "\n",
    "Consider each tree on your map. _What is the highest scenic score possible for any tree?_\n"
   ]
  },
  {
   "cell_type": "code",
   "execution_count": 6,
   "metadata": {},
   "outputs": [
    {
     "name": "stdout",
     "output_type": "stream",
     "text": [
      "test 8\n",
      "part 2 537600\n"
     ]
    }
   ],
   "source": [
    "\n",
    "def scenic_score(tree: str, view: str) -> int:\n",
    "    nearest = len(view)\n",
    "    blockers = \"9876543210\"[: 10 - int(tree)]\n",
    "    for height in blockers:\n",
    "        pos = view.find(height)\n",
    "        if pos >= 0 and pos < nearest:\n",
    "            nearest = pos + 1\n",
    "    return nearest\n",
    "\n",
    "\n",
    "def score_2(data: list[str]) -> int:\n",
    "    rows = len(data)\n",
    "    cols = len(data[0])\n",
    "    grid = \"\".join(data)\n",
    "    columns = [grid[col::cols] for col in range(cols)]\n",
    "\n",
    "    best = 0\n",
    "    for row in range(1, rows - 1):\n",
    "        for col in range(1, cols - 1):\n",
    "            views = (\n",
    "                data[row][:col][::-1],\n",
    "                data[row][col + 1 :],\n",
    "                columns[col][:row][::-1],\n",
    "                columns[col][row + 1 :],\n",
    "            )\n",
    "            scores = [scenic_score(data[row][col], view) for view in views]\n",
    "            score = scores[0] * scores[1] * scores[2] * scores[3]\n",
    "            if score > best:\n",
    "                best = score\n",
    "    return best\n",
    "\n",
    "\n",
    "if EXPECTED_2 is not None:\n",
    "    test_score = score_2(TEST)\n",
    "    assert test_score == EXPECTED_2\n",
    "    print(\"test\", test_score)\n",
    "    print(\"part 2\", score_2(DATA))\n"
   ]
  },
  {
   "cell_type": "markdown",
   "metadata": {},
   "source": [
    "<div class=\"alert alert-info\">Straight-froward brute force here. For each tree extract the strings that represent all the trees in each of the four directions then find how far we can see each way. Total run time (test data is 99x99 trees) is still under half a second for both parts on an Android tablet so nothing wrong with brute forcing it.</div>"
   ]
  }
 ],
 "metadata": {
  "kernelspec": {
   "display_name": "Python 3.11.0 64-bit ('3.11.0')",
   "language": "python",
   "name": "python3"
  },
  "language_info": {
   "codemirror_mode": {
    "name": "ipython",
    "version": 3
   },
   "file_extension": ".py",
   "mimetype": "text/x-python",
   "name": "python",
   "nbconvert_exporter": "python",
   "pygments_lexer": "ipython3",
   "version": "3.11.0"
  },
  "orig_nbformat": 4,
  "vscode": {
   "interpreter": {
    "hash": "3ddc3726f9882456e8b8cf425cc425f444dad7fd7a11992c764cb4bb411df583"
   }
  }
 },
 "nbformat": 4,
 "nbformat_minor": 2
}
